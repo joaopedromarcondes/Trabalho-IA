{
 "cells": [
  {
   "cell_type": "markdown",
   "metadata": {
    "id": "WgmA7EBZc2R5"
   },
   "source": [
    "# Importar os dados\n"
   ]
  },
  {
   "cell_type": "code",
   "execution_count": null,
   "metadata": {
    "colab": {
     "base_uri": "https://localhost:8080/",
     "height": 776
    },
    "id": "ktA02CVydfko",
    "outputId": "4db33710-71b6-43af-cbb5-a46bc3b722e7"
   },
   "outputs": [],
   "source": [
    "import pandas as pd\n",
    "from sklearn.cluster import KMeans\n",
    "from sklearn import metrics\n",
    "import matplotlib.pyplot as plt\n",
    "import numpy as np\n",
    "from sklearn.preprocessing import StandardScaler\n",
    "from sklearn.cluster import AgglomerativeClustering\n",
    "from scipy.cluster.hierarchy import dendrogram, linkage\n",
    "from sklearn.metrics import davies_bouldin_score\n",
    "from adjustText import adjust_text\n",
    "import plotly.io as pio\n",
    "import plotly.graph_objects as go\n",
    "\n",
    "file_path = \"./Missing_Migrants_Global_Figures_allData.xlsx\"\n",
    "df = pd.read_excel(file_path)\n",
    "display(df.head())"
   ]
  },
  {
   "cell_type": "markdown",
   "metadata": {
    "id": "bF-v9qBref2w"
   },
   "source": [
    "# Análise Descritiva dos Dados"
   ]
  },
  {
   "cell_type": "code",
   "execution_count": null,
   "metadata": {
    "colab": {
     "base_uri": "https://localhost:8080/",
     "height": 1000
    },
    "collapsed": true,
    "id": "TxGAYFEmeG5P",
    "outputId": "45aee4f6-31b7-403c-80cd-32311c1f8169"
   },
   "outputs": [],
   "source": [
    "display(df.describe())"
   ]
  },
  {
   "cell_type": "code",
   "execution_count": null,
   "metadata": {
    "colab": {
     "base_uri": "https://localhost:8080/",
     "height": 1000
    },
    "id": "e76489e0",
    "outputId": "53cd151b-eb6f-4c22-94f1-cfb2893a05af"
   },
   "outputs": [],
   "source": [
    "# Selecionar apenas colunas numéricas para análise de correlação\n",
    "numerical_cols = df.select_dtypes(include=np.number).columns\n",
    "\n",
    "# Calcular a matriz de correlação\n",
    "correlation_matrix = df[numerical_cols].corr()\n",
    "\n",
    "# Gerar o heatmap\n",
    "import seaborn as sns\n",
    "plt.figure(figsize=(12, 10))\n",
    "sns.heatmap(correlation_matrix, annot=True, cmap='coolwarm', fmt=\".2f\")\n",
    "plt.title('Heatmap de Correlação das Colunas Numéricas daora')\n",
    "plt.show()"
   ]
  },
  {
   "cell_type": "code",
   "execution_count": null,
   "metadata": {
    "colab": {
     "base_uri": "https://localhost:8080/"
    },
    "id": "d6Liyrdsdc7h",
    "outputId": "b807eb70-2780-4fff-85f0-b8f9a45f7ede"
   },
   "outputs": [],
   "source": [
    "cols_to_use = ['Migration Route', 'Total Number of Dead and Missing', 'Number of Survivors']\n",
    "df_routes = df[cols_to_use].copy()\n",
    "\n",
    "\n",
    "print(\"Rotas Nan: \" + str(df_routes['Migration Route'].isnull().sum()))\n",
    "print('% Rotas Nan: ' + str(df_routes['Migration Route'].isnull().sum() / len(df_routes) * 100))\n",
    "\n",
    "print(\"\\nNúmero de valores NaN na coluna 'Total Number of Dead and Missing':\", end=' ')\n",
    "print(str(df_routes['Total Number of Dead and Missing'].isnull().sum()))\n",
    "print('% Rotas Nan: ' + str(df_routes['Total Number of Dead and Missing'].isnull().sum() / len(df_routes) * 100))\n",
    "\n",
    "print(\"\\nNúmero de valores NaN na coluna 'Number of Survivors':\", end=' ')\n",
    "print(str(df_routes['Number of Survivors'].isnull().sum()))\n",
    "print('% Rotas Nan: ' + str(df_routes['Number of Survivors'].isnull().sum() / len(df_routes) * 100))"
   ]
  },
  {
   "cell_type": "markdown",
   "metadata": {
    "id": "QpXdUer7esgY"
   },
   "source": [
    "## Corrigindo valores"
   ]
  },
  {
   "cell_type": "code",
   "execution_count": null,
   "metadata": {
    "id": "oSWSvDvyVXzp"
   },
   "outputs": [],
   "source": [
    "# Apagar linhas com a rota de migração igual a NaN\n",
    "df_routes.dropna(subset=['Migration Route'], inplace=True)"
   ]
  },
  {
   "cell_type": "code",
   "execution_count": null,
   "metadata": {
    "id": "OW9h8fdKw_l2"
   },
   "outputs": [],
   "source": [
    "# Converter colunas numéricas de \"erro/NaN\" com 0\n",
    "\n",
    "df_routes['Number of Survivors'] = pd.to_numeric(df_routes['Number of Survivors'], errors='coerce').fillna(0)"
   ]
  },
  {
   "cell_type": "code",
   "execution_count": null,
   "metadata": {
    "colab": {
     "base_uri": "https://localhost:8080/"
    },
    "id": "Gb4knpSVxc1x",
    "outputId": "de03b026-b388-43a1-b1e5-35382e32361e"
   },
   "outputs": [],
   "source": [
    "# Filtrar rotas por ocorrência \n",
    "\n",
    "# Contar ocorrências de cada rota de migração\n",
    "route_counts = df_routes['Migration Route'].value_counts()\n",
    "\n",
    "# Obter rotas que aparecem pelo menos 10 vezes\n",
    "routes_to_keep = route_counts[route_counts >= 10].index\n",
    "routes_to_exclude = route_counts[route_counts < 10].index\n",
    "\n",
    "# Filtrar o banco de dados\n",
    "df_filtered = df_routes[df_routes['Migration Route'].isin(routes_to_keep)].copy()\n",
    "\n",
    "# Mostrar rotas mantidas com número de ocorrências\n",
    "print(\"Rotas mantidas (ocorreram pelo menos 10 vezes):\")\n",
    "display(route_counts[route_counts >= 10].to_frame(name='Ocorrências'))\n",
    "\n",
    "# Mostrar rotas excluídas com número de ocorrências\n",
    "print(\"\\nRotas excluídas (ocorreram menos de 10 vezes):\")\n",
    "display(route_counts[route_counts < 10].to_frame(name='Ocorrências'))\n"
   ]
  },
  {
   "cell_type": "code",
   "execution_count": null,
   "metadata": {},
   "outputs": [],
   "source": [
    "# Analisando dados melhorados\n",
    "display(df_filtered.describe())\n",
    "# Fazendo boxplot para visualizar a distribuição dos dados\n",
    "plt.figure(figsize=(12, 6))\n",
    "plt.subplot(1, 2, 1)\n",
    "sns.boxplot(x='Total Number of Dead and Missing', data=df_filtered)\n",
    "plt.title('Distribuição de Mortes e Desaparecidos')\n",
    "plt.subplot(1, 2, 2)\n",
    "sns.boxplot(x='Number of Survivors', data=df_filtered)\n",
    "plt.title('Distribuição de Sobreviventes')\n",
    "plt.tight_layout()\n",
    "plt.show()\n",
    "\n",
    "# Fazendo histogramas para visualizar a distribuição dos dados\n",
    "plt.figure(figsize=(12, 6))\n",
    "plt.subplot(1, 2, 1)\n",
    "sns.histplot(df_filtered['Total Number of Dead and Missing'], bins=30, kde=True\n",
    "    , color='blue')\n",
    "plt.title('Histograma de Mortes e Desaparecidos')\n",
    "plt.subplot(1, 2, 2)\n",
    "sns.histplot(df_filtered['Number of Survivors'], bins=30, kde=True, color='green')\n",
    "plt.title('Histograma de Sobreviventes')\n",
    "plt.tight_layout()\n",
    "plt.show()\n"
   ]
  },
  {
   "cell_type": "markdown",
   "metadata": {
    "id": "B5k511lo0m2j"
   },
   "source": [
    "### Danger Ratio"
   ]
  },
  {
   "cell_type": "code",
   "execution_count": null,
   "metadata": {
    "colab": {
     "base_uri": "https://localhost:8080/",
     "height": 423
    },
    "id": "CkdpNe4F0pBc",
    "outputId": "5102f9b4-dacf-4180-a1a7-d19a88ac81d4"
   },
   "outputs": [],
   "source": [
    "# Calcular o dominador para as taxas de letalidade\n",
    "denominator = df_filtered['Total Number of Dead and Missing'] + df_filtered['Number of Survivors']\n",
    "\n",
    "# Calcular a taxa de perigo para cada incidente\n",
    "df_filtered['Danger Ratio'] = np.divide(\n",
    "    df_filtered['Total Number of Dead and Missing'],\n",
    "    denominator,\n",
    "    out=np.zeros_like(df_filtered['Total Number of Dead and Missing'], dtype=float),\n",
    "    where=(denominator != 0)\n",
    ")\n",
    "\n",
    "# Calcula o número total de pessoas envolvidas em cada rota\n",
    "df_filtered['Total People Involved'] = denominator\n"
   ]
  },
  {
   "cell_type": "code",
   "execution_count": null,
   "metadata": {},
   "outputs": [],
   "source": [
    "# Normalização dos dados\n",
    "\n",
    "# Agrupamento dos dados\n",
    "normalized_summary = df_filtered.groupby('Migration Route').agg(\n",
    "    Mean_Danger_Ratio=('Danger Ratio', 'mean'),\n",
    "    Mean_People_Involved=('Total People Involved', 'mean')\n",
    ")\n",
    "# Selecionando as características para escala\n",
    "features_to_scale = normalized_summary[['Mean_Danger_Ratio', 'Mean_People_Involved']]\n",
    "scaler = StandardScaler()\n",
    "scaled_features = scaler.fit_transform(features_to_scale)"
   ]
  },
  {
   "cell_type": "markdown",
   "metadata": {
    "id": "czdcvlFae1xy"
   },
   "source": [
    "# Modelos de IA"
   ]
  },
  {
   "cell_type": "markdown",
   "metadata": {},
   "source": [
    "Foi escolhido dois modelos de agrupamento: K-means e Agrupamento Hierárquico"
   ]
  },
  {
   "cell_type": "markdown",
   "metadata": {
    "id": "DTGXITWPe_vg"
   },
   "source": [
    "## Primeiro Modelo - K-means"
   ]
  },
  {
   "cell_type": "code",
   "execution_count": null,
   "metadata": {
    "colab": {
     "base_uri": "https://localhost:8080/"
    },
    "id": "rVlBtw6_NbDL",
    "outputId": "4dc4ba75-ccaa-474a-de61-bea218ceda14"
   },
   "outputs": [],
   "source": [
    "# Número de clusters esclhidos: 3\n",
    "k_optimal = 3\n",
    "kmeans = KMeans(n_clusters=k_optimal, random_state=42, n_init=10)\n",
    "normalized_summary['Cluster'] = kmeans.fit_predict(scaled_features)\n",
    "\n",
    "# Análise de resultados\n",
    "cluster_profiles = normalized_summary.groupby('Cluster')[['Mean_Danger_Ratio', 'Mean_People_Involved']].mean().sort_values('Mean_Danger_Ratio')\n",
    "cluster_profiles['Quantidade'] = normalized_summary.groupby('Cluster').size()\n",
    "\n",
    "print('--- Análise de Clusters com Dados Normalizados (k=3) ---')\n",
    "print(\"\\nPerfil Médio de Cada Cluster:\")\n",
    "print(cluster_profiles)\n",
    "\n",
    "# Criar os clusters\n",
    "profile_map = {\n",
    "    cluster_profiles.index[0]: \"Rotas com alta taxa de perigo e poucas pessoas envolvidas\",\n",
    "    cluster_profiles.index[1]: \"Rotas com taxa de perigo média e número médio de pessoas envolvidas\",\n",
    "    cluster_profiles.index[2]: \"Rotas com baixa taxa de perigo e muitas pessoas envolvidas\",\n",
    "}\n",
    "normalized_summary['Cluster_Profile'] = normalized_summary['Cluster'].map(profile_map)\n",
    "\n",
    "print(\"\\n--- Detalhes dos Clusters (k=3) ---\")\n",
    "for cluster_label, profile_name in profile_map.items():\n",
    "    print(f\"\\n--- Cluster: {profile_name} ---\")\n",
    "    cluster_data = normalized_summary[normalized_summary['Cluster'] == cluster_label]\n",
    "    print(f\"Número de Rotas: {len(cluster_data)}\")\n",
    "    print(\"Perfil Médio:\")\n",
    "    display(cluster_profiles.loc[cluster_label].round(2))\n",
    "    print(\"\\nRotas neste Cluster:\")\n",
    "    display(cluster_data.sort_values('Mean_People_Involved', ascending=False))\n",
    "\n",
    "\n",
    "#Tabela com cada uma das rotas, seus valores e seu cluster\n",
    "print(\"--- Tabela Final de Clusterização (K-Means, k=3) ---\")\n",
    "final_table_kmeans = normalized_summary[['Mean_Danger_Ratio', 'Mean_People_Involved', 'Cluster_Profile']].copy()\n",
    "final_table_kmeans.sort_values(by=['Cluster_Profile', 'Mean_Danger_Ratio'], ascending=[True, False], inplace=True)\n",
    "display(final_table_kmeans)"
   ]
  },
  {
   "cell_type": "markdown",
   "metadata": {},
   "source": [
    "Gráfico do Agrupamento não Hierárquico"
   ]
  },
  {
   "cell_type": "code",
   "execution_count": null,
   "metadata": {},
   "outputs": [],
   "source": [
    "\n",
    "plt.figure(figsize=(10, 6))\n",
    "\n",
    "# Obter os clusters únicos e criar um colormap manual\n",
    "clusters = normalized_summary['Cluster'].unique()\n",
    "colors = plt.cm.viridis(clusters / clusters.max())  # mapa de cores baseado nos clusters\n",
    "\n",
    "\n",
    "# Plotar cada cluster separadamente para poder criar legenda\n",
    "for cluster_id, color in zip(clusters, colors):\n",
    "    cluster_data = normalized_summary[normalized_summary['Cluster'] == cluster_id]\n",
    "    plt.scatter(\n",
    "        cluster_data['Mean_Danger_Ratio'],\n",
    "        cluster_data['Mean_People_Involved'],\n",
    "        label=cluster_data['Cluster_Profile'].iloc[0],\n",
    "        c=[color],\n",
    "        s=50\n",
    "    )\n",
    "\n",
    "\n",
    "plt.xlabel('Mean Danger Ratio')\n",
    "plt.ylabel('Mean People Involved')\n",
    "plt.title('Clusterização de Rotas de Migração (K-Means, k=3 - Escala Original)')\n",
    "plt.grid(True)\n",
    "\n",
    "\n",
    "# Anotações com ajuste automático\n",
    "texts = []\n",
    "for i, route in enumerate(normalized_summary.index):\n",
    "    x = normalized_summary['Mean_Danger_Ratio'].iloc[i]\n",
    "    y = normalized_summary['Mean_People_Involved'].iloc[i]\n",
    "    texts.append(plt.text(x, y, route, fontsize=8))\n",
    "\n",
    "adjust_text(texts, arrowprops=dict(arrowstyle='-', color='gray', lw=0.5))\n",
    "\n",
    "plt.show()\n"
   ]
  },
  {
   "cell_type": "markdown",
   "metadata": {
    "id": "R6JTNI1qfzuE"
   },
   "source": [
    "## Segundo Modelo - Hierárquico Bottom-Up (Aglomerativo)"
   ]
  },
  {
   "cell_type": "code",
   "execution_count": null,
   "metadata": {
    "colab": {
     "base_uri": "https://localhost:8080/",
     "height": 1000
    },
    "id": "Pv2PA6u3N6N6",
    "outputId": "3763bc79-3dfb-4493-836d-a29e268b74f5"
   },
   "outputs": [],
   "source": [
    "METHOD = 'ward'  # Método de ligação para o dendrograma\n",
    "METRIC = 'euclidean'  # Métrica de distância para o dendrograma\n",
    "\n",
    "# Gerar a matriz de ligação para o dendrograma\n",
    "Z = linkage(scaled_features, method=METHOD, metric=METRIC)\n",
    "\n",
    "# Definir summary_2d como uma cópia de normalized_summary\n",
    "summary_2d = normalized_summary.copy()\n",
    "\n",
    "# Criar e salvar o dendrograma\n",
    "plt.figure(figsize=(15, 10))\n",
    "plt.title('Dendrograma Hierárquico (Letalidade vs. Escala)')\n",
    "plt.xlabel('Rotas Migratórias')\n",
    "plt.ylabel('Distância')\n",
    "dendrogram(\n",
    "    Z,\n",
    "    labels=summary_2d.index,\n",
    "    leaf_rotation=90,\n",
    "    leaf_font_size=10,\n",
    ")\n",
    "plt.tight_layout()\n",
    "\n",
    "\n",
    "# Extrair 3 clusters para comparar com a análise de K-Means\n",
    "n_clusters = 3\n",
    "hc = AgglomerativeClustering(n_clusters=n_clusters, metric=METRIC, linkage=METHOD)\n",
    "summary_2d['Cluster'] = hc.fit_predict(scaled_features)\n",
    "\n",
    "# Análises de Clusters hierárquicos \n",
    "cluster_profiles = summary_2d.groupby('Cluster')[['Mean_Danger_Ratio', 'Mean_People_Involved']].mean().sort_values('Mean_Danger_Ratio')\n",
    "\n",
    "print(\"\\n--- Análise dos Clusters Hierárquicos (Letalidade vs. Escala) ---\")\n",
    "print(\"\\nPerfil Médio de Cada Cluster:\")\n",
    "print(cluster_profiles)\n",
    "\n",
    "# Criar nomes descritivos baseados nos perfis calculados\n",
    "profile_map = {\n",
    "    cluster_profiles.index[0]: \"Rotas com taxa de perigo média e número médio de pessoas envolvidas\",\n",
    "    cluster_profiles.index[1]: \"Rotas com alta taxa de perigo e poucas pessoas envolvidas\",\n",
    "    cluster_profiles.index[2]: \"Rotas com baixa taxa de perigo e muitas pessoas envolvidas\"\n",
    "}\n",
    "summary_2d['Cluster_Profile']= summary_2d['Cluster'].map(profile_map)\n",
    "\n",
    "\n",
    "print(\"\\n--- Detalhes dos Clusters Hierárquicos ---\")\n",
    "for cluster_label, profile_name in sorted(profile_map.items(), key=lambda item: cluster_profiles.loc[item[0]]['Mean_Danger_Ratio']):\n",
    "    print(f\"\\n--- Cluster: {profile_name} ---\")\n",
    "    cluster_data = summary_2d[summary_2d['Cluster'] == cluster_label]\n",
    "    print(f\"Número de Rotas: {len(cluster_data)}\")\n",
    "    print(\"Perfil Médio:\")\n",
    "    display(cluster_profiles.loc[cluster_label].round(2))\n",
    "    print(\"\\nRotas neste Cluster:\")\n",
    "    display(cluster_data[['Mean_Danger_Ratio', 'Mean_People_Involved']].sort_values('Mean_People_Involved', ascending=False))\n",
    "\n",
    "\n",
    "#Tabela com cada uma das rotas, seus valores e seu cluster\n",
    "display(\"--- Tabela Final de Clusterização (Hierárquico, n=3) ---\")\n",
    "final_table_hc = summary_2d[['Mean_Danger_Ratio', 'Mean_People_Involved', 'Cluster_Profile']].copy()\n",
    "final_table_hc.sort_values(by=['Cluster_Profile', 'Mean_Danger_Ratio'], ascending=[True, False], inplace=True)\n",
    "display(final_table_hc)"
   ]
  },
  {
   "cell_type": "markdown",
   "metadata": {
    "id": "pVW-WpVvf9C8"
   },
   "source": [
    "# Resultados"
   ]
  },
  {
   "cell_type": "code",
   "execution_count": null,
   "metadata": {},
   "outputs": [],
   "source": [
    "# Scores para modelo k-means\n",
    "kmeans_labels = kmeans.labels_\n",
    "silhouette_kmeans = metrics.silhouette_score(scaled_features, kmeans_labels, metric='euclidean')\n",
    "db_kmeans = davies_bouldin_score(scaled_features, kmeans_labels)\n",
    "print(\"Silhouette Score (K-means):\", silhouette_kmeans)\n",
    "print(\"Davies Bouldin Score (K-Means):\", db_kmeans, \"\\n\")\n",
    "\n",
    "# Scores para modelo hierárquico\n",
    "hc_labels = hc.labels_\n",
    "silhouette_hc = metrics.silhouette_score(scaled_features, hc_labels, metric='euclidean')\n",
    "db_hc = davies_bouldin_score(scaled_features, hc_labels)\n",
    "print(\"Silhouette Score (Hierárquico):\", silhouette_hc)\n",
    "print(\"Davies Bouldin Score (Hieráquico):\", db_hc)\n",
    "\n"
   ]
  },
  {
   "cell_type": "code",
   "execution_count": null,
   "metadata": {},
   "outputs": [],
   "source": [
    "# Tabela cruzada entre os rótulos dos dois algoritmos\n",
    "# Crie o DataFrame de comparação entre os clusters\n",
    "comparison_df = pd.DataFrame({\n",
    "    'KMeans_Cluster': normalized_summary['Cluster'],\n",
    "    'Hierarchical_Cluster': summary_2d['Cluster']\n",
    "}, index=normalized_summary.index)\n",
    "\n",
    "confusion = pd.crosstab(comparison_df['KMeans_Cluster'], comparison_df['Hierarchical_Cluster'])\n",
    "\n",
    "print(\"Matriz de comparação entre clusters KMeans e Hierárquico:\")\n",
    "display(confusion)"
   ]
  },
  {
   "cell_type": "code",
   "execution_count": null,
   "metadata": {},
   "outputs": [],
   "source": [
    "grupo_diferente = (comparison_df['Hierarchical_Cluster'] == 0) & (comparison_df['KMeans_Cluster'] == 0)\n",
    "\n",
    "print(\"Grupo diferente (KMeans 0, Hierárquico 0):\")\n",
    "display(comparison_df[grupo_diferente])"
   ]
  },
  {
   "cell_type": "code",
   "execution_count": null,
   "metadata": {},
   "outputs": [],
   "source": [
    "pio.renderers.default = \"browser\"\n",
    "\n",
    "# Definir cores para cada cluster\n",
    "cluster_colors = {\n",
    "    0: 'blue',\n",
    "    1: 'orange',\n",
    "    2: 'green'\n",
    "}\n",
    "\n",
    "# Exemplo: dicionário com coordenadas de origem/destino para cada rota\n",
    "coords_arrumadas = {\n",
    "    'Afghanistan to Iran': {'origem_lat': 34.5, 'origem_lon': 69.1, 'destino_lat': 32.0, 'destino_lon': 54.0},\n",
    "    'Belarus-EU border': {'origem_lat': 53.9, 'origem_lon': 27.5, 'destino_lat': 53.1, 'destino_lon': 23.1},\n",
    "    'Caribbean to US': {'origem_lat': 18.0, 'origem_lon': -66.0, 'destino_lat': 25.7, 'destino_lon': -80.2},\n",
    "    'Central Mediterranean': {'origem_lat': 33.8, 'origem_lon': 13.0, 'destino_lat': 37.6, 'destino_lon': 12.3},\n",
    "    'Darien': {'origem_lat': 7.8, 'origem_lon': -77.5, 'destino_lat': 9.0, 'destino_lon': -79.5},\n",
    "    'Dominican Republic to Puerto Rico': {'origem_lat': 18.5, 'origem_lon': -69.9, 'destino_lat': 18.5, 'destino_lon': -66.1},\n",
    "    'Eastern Mediterranean': {'origem_lat': 36.2, 'origem_lon': 36.1, 'destino_lat': 38.0, 'destino_lon': 23.7},\n",
    "    'Eastern Route to/from EHOA': {'origem_lat': 3.5, 'origem_lon': 42.0, 'destino_lat': 15.6, 'destino_lon': 45.2},\n",
    "    'English Channel to the UK': {'origem_lat': 50.9, 'origem_lon': 1.8, 'destino_lat': 51.1, 'destino_lon': 1.3},\n",
    "    'Haiti to Dominican Republic': {'origem_lat': 18.5, 'origem_lon': -72.3, 'destino_lat': 18.5, 'destino_lon': -69.9},\n",
    "    'Horn of Africa Route': {'origem_lat': 12.0, 'origem_lon': 44.0, 'destino_lat': 15.6, 'destino_lon': 32.5},\n",
    "    'Iran to Türkiye': {'origem_lat': 37.0, 'origem_lon': 45.0, 'destino_lat': 39.0, 'destino_lon': 43.0},\n",
    "    'Italy to France': {'origem_lat': 43.7, 'origem_lon': 7.3, 'destino_lat': 43.8, 'destino_lon': 7.1},\n",
    "    'Northern Route from EHOA': {'origem_lat': 9.0, 'origem_lon': 38.7, 'destino_lat': 15.0, 'destino_lon': 30.0},\n",
    "    'Route to Southern Africa': {'origem_lat': 0.5, 'origem_lon': 32.5, 'destino_lat': -25.9, 'destino_lon': 28.2},\n",
    "    'Sahara Desert crossing': {'origem_lat': 15.0, 'origem_lon': 1.0, 'destino_lat': 27.0, 'destino_lon': 13.0},\n",
    "    'Sea crossings to Mayotte': {'origem_lat': -12.8, 'origem_lon': 45.2, 'destino_lat': -12.7, 'destino_lon': 45.1},\n",
    "    'Syria to Türkiye': {'origem_lat': 36.2, 'origem_lon': 37.1, 'destino_lat': 37.1, 'destino_lon': 36.8},\n",
    "    'Türkiye-Europe land route': {'origem_lat': 41.0, 'origem_lon': 28.9, 'destino_lat': 42.5, 'destino_lon': 22.5},\n",
    "    'US-Mexico border crossing': {'origem_lat': 32.5, 'origem_lon': -117.0, 'destino_lat': 25.7, 'destino_lon': -100.3},\n",
    "    'Ukraine to Europe': {'origem_lat': 50.4, 'origem_lon': 30.5, 'destino_lat': 52.5, 'destino_lon': 13.4},\n",
    "    'Venezuela to Caribbean': {'origem_lat': 10.5, 'origem_lon': -66.9, 'destino_lat': 12.0, 'destino_lon': -61.8},\n",
    "    'Western Africa / Atlantic route to the Canary Islands': {'origem_lat': 21.0, 'origem_lon': -17.0, 'destino_lat': 28.1, 'destino_lon': -15.4},\n",
    "    'Western Balkans': {'origem_lat': 42.0, 'origem_lon': 21.0, 'destino_lat': 45.0, 'destino_lon': 15.0},\n",
    "    'Western Mediterranean': {'origem_lat': 35.0, 'origem_lon': -2.9, 'destino_lat': 37.0, 'destino_lon': -1.8}\n",
    "}\n",
    "\n",
    "\n",
    "# Montar DataFrame para plotar\n",
    "plot_df = []\n",
    "for route, row in normalized_summary.iterrows():\n",
    "    if route in coords_arrumadas:\n",
    "        data = coords_arrumadas[route]\n",
    "        plot_df.append({\n",
    "            'origem_lat': data['origem_lat'],\n",
    "            'origem_lon': data['origem_lon'],\n",
    "            'destino_lat': data['destino_lat'],\n",
    "            'destino_lon': data['destino_lon'],\n",
    "            'cluster': row['Cluster'],\n",
    "            'Migration Route': route\n",
    "        })\n",
    "plot_df = pd.DataFrame(plot_df)\n",
    "\n",
    "# Plotar no mapa\n",
    "fig = go.Figure()\n",
    "for _, row in plot_df.iterrows():\n",
    "    fig.add_trace(go.Scattergeo(\n",
    "        lon = [row['origem_lon'], row['destino_lon']],\n",
    "        lat = [row['origem_lat'], row['destino_lat']],\n",
    "        mode = 'lines',\n",
    "        line = dict(width = 2, color = cluster_colors[row['cluster']]),\n",
    "        name = row['Migration Route']\n",
    "    ))\n",
    "\n",
    "fig.update_layout(\n",
    "    title = 'Rotas de Migração por Cluster',\n",
    "    showlegend = False,\n",
    "    geo = dict(\n",
    "        scope = 'world',\n",
    "        projection_type = 'natural earth',\n",
    "        showland = True,\n",
    "        landcolor = 'rgb(243, 243, 243)',\n",
    "        countrycolor = 'rgb(204, 204, 204)'\n",
    "    )\n",
    ")\n",
    "fig.show()  \n"
   ]
  }
 ],
 "metadata": {
  "colab": {
   "provenance": []
  },
  "kernelspec": {
   "display_name": ".venv",
   "language": "python",
   "name": "python3"
  },
  "language_info": {
   "codemirror_mode": {
    "name": "ipython",
    "version": 3
   },
   "file_extension": ".py",
   "mimetype": "text/x-python",
   "name": "python",
   "nbconvert_exporter": "python",
   "pygments_lexer": "ipython3",
   "version": "3.13.3"
  }
 },
 "nbformat": 4,
 "nbformat_minor": 0
}
